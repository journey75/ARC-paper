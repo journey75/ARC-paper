{
 "cells": [
  {
   "cell_type": "markdown",
   "metadata": {},
   "source": [
    "# Compression Injection Analysis"
   ]
  },
  {
   "cell_type": "markdown",
   "metadata": {},
   "source": [
    "## Introduction:"
   ]
  },
  {
   "cell_type": "markdown",
   "metadata": {},
   "source": [
    "As HPC system continue to grow in size, the data being used with these systems is continuing to grow in size as well. However, as this data grows a bottleneck occurs when trying to move this vast amount of data around the network. To overcome this bottleneck, compression has been used. Majority of compression utilizes lossless compressors which ensure the full data's integrity but sacrifices a possibly better compression ratio.  Other works have shown that lossy compression can further push the compression ratio at the cost of some data percision.  \n",
    "  \n",
    "When a lossy compressor is used to compress data, similar chunks of data are grouped and only a single copy of the data is kept. This process can push the compression ratio further past that of lossless compressors, but does reveal some vulerabilities as well. In this study, we aim to gauge the impacts of faults on lossy compressed data and determine where future protections could be added to further protect the sensitive data."
   ]
  },
  {
   "cell_type": "markdown",
   "metadata": {},
   "source": [
    "## Experiment:"
   ]
  },
  {
   "cell_type": "markdown",
   "metadata": {},
   "source": [
    "In our experiment, we will be looking at how faults effect different aspects of lossy compressed data. Specifically we will be looking at how faults effect the decompression bandwidth, number of incorrect elements, maximum difference, RMSE, PSNR, average power usage, and return status.\n",
    "\n",
    "To test these different aspects we will be performing experiments on two different datasets. The first experiment we will be running will use the x positional information from the EXAALT molecular dynamics simulation which is comprised of 2869440 single percision floats. From this data we will be sampling 5% of the total compressed bytes. The second experiment will use the x positional information from the HACC particle simulation's data found on SDRBench which is comprised of 280953867 single percision floats. With this data we will be sampling .01% of the total compressed bytes. This different in sampling sizes is due to the difference in magnitude between the two datasets.\n",
    "\n",
    "During each trial the data will be read in, compressed, faulted, and then decompressed. All of the previously mentioned information will be gathered and recorded before starting the next trial.\n",
    "\n",
    "Our trials will be using the SZ lossy compressor with the abs, pw-rel, and psnr error modes. With each of these modes we will vary the error bounding values to gather a good picture of how these different error bounding metrics change the fault effects on the compressed data.\n",
    "  \n",
    "Upon completion of these tests we aim to visualize the different characteristics of all experiments. Below each experiment can be seen as well as the comparison between the two different experiments."
   ]
  },
  {
   "cell_type": "markdown",
   "metadata": {},
   "source": [
    "## Table of Contents"
   ]
  },
  {
   "cell_type": "markdown",
   "metadata": {},
   "source": [
    "[EXAALT Experiment](EXAALT_Experiment.ipynb)"
   ]
  },
  {
   "cell_type": "markdown",
   "metadata": {},
   "source": [
    "[HACC Experiment](hacc_experiment.ipynb)"
   ]
  },
  {
   "cell_type": "markdown",
   "metadata": {},
   "source": [
    "[Cross Dataset Comparisons](\"cross_dataset_comparison.ipynb\")"
   ]
  }
 ],
 "metadata": {
  "kernelspec": {
   "display_name": "Python 3",
   "language": "python",
   "name": "python3"
  },
  "language_info": {
   "codemirror_mode": {
    "name": "ipython",
    "version": 3
   },
   "file_extension": ".py",
   "mimetype": "text/x-python",
   "name": "python",
   "nbconvert_exporter": "python",
   "pygments_lexer": "ipython3",
   "version": "3.7.3"
  }
 },
 "nbformat": 4,
 "nbformat_minor": 2
}
