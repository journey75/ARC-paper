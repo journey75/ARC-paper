{
 "cells": [
  {
   "cell_type": "markdown",
   "metadata": {},
   "source": [
    "# Cross Dataset Comparisons"
   ]
  },
  {
   "cell_type": "markdown",
   "metadata": {},
   "source": [
    "## Experiment"
   ]
  },
  {
   "cell_type": "markdown",
   "metadata": {},
   "source": [
    "EXAALT Experiment:\n",
    "* Run on Palmetto\n",
    "* Run with 30 Nodes\n",
    "* Each node had 16 cpus running in parallel\n",
    "* Phase 8C on Palmetto\n",
    "* Each Node had 62gb of Ram\n",
    "* 5% Sampling of the data\n",
    "\n",
    "  \n",
    "HACC Experiment:\n",
    "* Run on Palmetto\n",
    "* Run with 100 Nodes\n",
    "* Each node had 20 cpus running in parallel\n",
    "* Phase 10 on Palmetto\n",
    "* Each Node had 62gb of Ram\n",
    "* 0.001% Sampling of the data"
   ]
  },
  {
   "cell_type": "markdown",
   "metadata": {},
   "source": [
    "## Analysis"
   ]
  },
  {
   "cell_type": "markdown",
   "metadata": {},
   "source": [
    "[Comparing Effects on Decompression Bandwidth](comparison_decompression_bandwidth_analysis.ipynb)\n",
    "\n",
    "[Comparing Effects on Incorrect Element Count](comparison_incorrect_element_analysis.ipynb)\n",
    "\n",
    "[Comparing Effects on Maximum Difference](comparison_maximum_difference_analysis.ipynb)\n",
    "\n",
    "[Comparing Effects on Root Mean Squared Error](comparison_rmse_analysis.ipynb)\n",
    "\n",
    "[Comparing Effects on Peak Signal Noise Ratio](comparison_psnr_analysis.ipynb)\n",
    "\n",
    "[Comparing Effects on Ending Status](comparison_end_status_analysis.ipynb)"
   ]
  },
  {
   "cell_type": "code",
   "execution_count": null,
   "metadata": {},
   "outputs": [],
   "source": []
  }
 ],
 "metadata": {
  "kernelspec": {
   "display_name": "Python 3",
   "language": "python",
   "name": "python3"
  },
  "language_info": {
   "codemirror_mode": {
    "name": "ipython",
    "version": 3
   },
   "file_extension": ".py",
   "mimetype": "text/x-python",
   "name": "python",
   "nbconvert_exporter": "python",
   "pygments_lexer": "ipython3",
   "version": "3.7.3"
  }
 },
 "nbformat": 4,
 "nbformat_minor": 2
}
