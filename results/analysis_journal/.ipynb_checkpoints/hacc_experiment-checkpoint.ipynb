{
 "cells": [
  {
   "cell_type": "markdown",
   "metadata": {},
   "source": [
    "# HACC Experiment Analysis"
   ]
  },
  {
   "cell_type": "markdown",
   "metadata": {},
   "source": [
    "## Experiment"
   ]
  },
  {
   "cell_type": "markdown",
   "metadata": {},
   "source": [
    "* Run on Palmetto\n",
    "* Run with 30 Nodes\n",
    "* Each node had 16 cpus running in parallel\n",
    "* Phase 8C on Palmetto\n",
    "* Each Node had 62gb of Ram\n",
    "* 5% Sampling of the data"
   ]
  },
  {
   "cell_type": "markdown",
   "metadata": {},
   "source": [
    "## Analysis"
   ]
  },
  {
   "cell_type": "markdown",
   "metadata": {},
   "source": [
    "### Control Case Analysis"
   ]
  },
  {
   "cell_type": "markdown",
   "metadata": {},
   "source": [
    "[EXAALT Control Case Analysis](exaalt_experiment_control_case_analysis.ipynb)"
   ]
  },
  {
   "cell_type": "markdown",
   "metadata": {},
   "source": [
    "### Corrupt Case Analysis"
   ]
  },
  {
   "cell_type": "markdown",
   "metadata": {},
   "source": [
    "[EXAALT ABS Compression Corruption Analysis](exaalt_abs_analysis.ipynb)  \n",
    "  \n",
    "[EXAALT PW Compression Corruption Analysis](exaalt_pw_analysis.ipynb)  \n",
    "  \n",
    "[EXAALT PSNR Compression Corruption Analysis](exaalt_psnr_analysis.ipynb)  "
   ]
  }
 ],
 "metadata": {
  "kernelspec": {
   "display_name": "Python 3",
   "language": "python",
   "name": "python3"
  },
  "language_info": {
   "codemirror_mode": {
    "name": "ipython",
    "version": 3
   },
   "file_extension": ".py",
   "mimetype": "text/x-python",
   "name": "python",
   "nbconvert_exporter": "python",
   "pygments_lexer": "ipython3",
   "version": "3.7.3"
  }
 },
 "nbformat": 4,
 "nbformat_minor": 2
}
