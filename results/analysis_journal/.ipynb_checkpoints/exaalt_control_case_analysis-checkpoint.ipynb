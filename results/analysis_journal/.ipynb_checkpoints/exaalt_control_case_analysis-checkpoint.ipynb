{
 "cells": [
  {
   "cell_type": "markdown",
   "metadata": {},
   "source": [
    "# EXAALT Control Case Analysis"
   ]
  },
  {
   "cell_type": "markdown",
   "metadata": {},
   "source": [
    "This analysis is part of the overall EXAALT experiment analysis. In this section we will be looking at the baseline control case.\n",
    "\n",
    "In particular, we will be looking at each metrics averages and standard deviation."
   ]
  },
  {
   "cell_type": "markdown",
   "metadata": {},
   "source": [
    "## Libraries and Constants"
   ]
  },
  {
   "cell_type": "code",
   "execution_count": 1,
   "metadata": {},
   "outputs": [],
   "source": [
    "import sys\n",
    "import os\n",
    "import pandas as pd\n",
    "from matplotlib import pyplot as plt\n",
    "import matplotlib\n",
    "import seaborn as sns\n",
    "import time\n",
    "\n",
    "abs_control_list = ['./notebook_data/exaalt_data/sz_exaalt_control_abs_1e2.csv', './notebook_data/exaalt_data/sz_exaalt_control_abs_1e3.csv', './notebook_data/exaalt_data/sz_exaalt_control_abs_1e4.csv']\n",
    "\n",
    "pw_control_list = ['./notebook_data/exaalt_data/sz_exaalt_control_pw_1e2.csv', './notebook_data/exaalt_data/sz_exaalt_control_pw_1e3.csv', './notebook_data/exaalt_data/sz_exaalt_control_pw_1e4.csv']\n",
    "\n",
    "psnr_control_list = ['./notebook_data/exaalt_data/sz_exaalt_control_psnr_60.csv', './notebook_data/exaalt_data/sz_exaalt_control_psnr_90.csv', './notebook_data/exaalt_data/sz_exaalt_control_psnr_120.csv']\n",
    "\n",
    "read_cols=[\"DataSize\", \"CompressedSize\", \"ByteLocation\", \"FlipLocation\", \"DecompressionTime\", \"Incorrect\", \"MaxDifference\", \"RMSE\", \"PSNR\", \"Status\"]"
   ]
  },
  {
   "cell_type": "markdown",
   "metadata": {},
   "source": [
    "## ABS Analysis"
   ]
  },
  {
   "cell_type": "markdown",
   "metadata": {},
   "source": [
    "### Read in data"
   ]
  },
  {
   "cell_type": "code",
   "execution_count": 2,
   "metadata": {},
   "outputs": [],
   "source": [
    "control_list = abs_control_list\n",
    "error_bounds = ['1e-2', '1e-3', '1e-4']\n",
    "\n",
    "control_1 = pd.read_csv(control_list[0], usecols=read_cols)\n",
    "control_1.columns = control_1.columns.str.strip()\n",
    "control_1['ErrorBound'] = error_bounds[0]\n",
    "control_1['DecompressionBandwidth'] = (control_1['DataSize']/control_1['DecompressionTime'])/1048576\n",
    "control_1['MaxDifference'] = control_1['MaxDifference'].apply(pd.to_numeric, errors='coerce').fillna(-2)\n",
    "control_1['RMSE'] = control_1['RMSE'].apply(pd.to_numeric, errors='coerce').fillna(-2)\n",
    "control_1['PSNR'] = control_1['PSNR'].apply(pd.to_numeric, errors='coerce').fillna(-2)\n",
    "control_2 = pd.read_csv(control_list[1], usecols=read_cols)\n",
    "control_2.columns = control_2.columns.str.strip()\n",
    "control_2['ErrorBound'] = error_bounds[1]\n",
    "control_2['DecompressionBandwidth'] = (control_2['DataSize']/control_2['DecompressionTime'])/1048576\n",
    "control_2['MaxDifference'] = control_2['MaxDifference'].apply(pd.to_numeric, errors='coerce').fillna(-2)\n",
    "control_2['RMSE'] = control_2['RMSE'].apply(pd.to_numeric, errors='coerce').fillna(-2)\n",
    "control_2['PSNR'] = control_2['PSNR'].apply(pd.to_numeric, errors='coerce').fillna(-2)\n",
    "control_3 = pd.read_csv(control_list[2], usecols=read_cols)\n",
    "control_3.columns = control_3.columns.str.strip()\n",
    "control_3['ErrorBound'] = error_bounds[2]\n",
    "control_3['DecompressionBandwidth'] = (control_3['DataSize']/control_3['DecompressionTime'])/1048576\n",
    "control_3['MaxDifference'] = control_3['MaxDifference'].apply(pd.to_numeric, errors='coerce').fillna(-2)\n",
    "control_3['RMSE'] = control_3['RMSE'].apply(pd.to_numeric, errors='coerce').fillna(-2)\n",
    "control_3['PSNR'] = control_3['PSNR'].apply(pd.to_numeric, errors='coerce').fillna(-2)"
   ]
  },
  {
   "cell_type": "markdown",
   "metadata": {},
   "source": [
    "### Determine Baseline Values"
   ]
  },
  {
   "cell_type": "markdown",
   "metadata": {},
   "source": [
    "#### Compression Ratio"
   ]
  },
  {
   "cell_type": "code",
   "execution_count": 3,
   "metadata": {},
   "outputs": [
    {
     "name": "stdout",
     "output_type": "stream",
     "text": [
      "ABS 1E2 Compression Ratio: 3.1469412095331446x\n",
      "ABS 1E3 Compression Ratio: 2.2592748241486453x\n",
      "ABS 1E4 Compression Ratio: 1.3610969071930223x\n"
     ]
    }
   ],
   "source": [
    "print(\"ABS 1E2 Compression Ratio: {}x\".format(control_1['DataSize'][0]/control_1['CompressedSize'][0]))\n",
    "print(\"ABS 1E3 Compression Ratio: {}x\".format(control_2['DataSize'][0]/control_2['CompressedSize'][0]))\n",
    "print(\"ABS 1E4 Compression Ratio: {}x\".format(control_3['DataSize'][0]/control_3['CompressedSize'][0]))"
   ]
  },
  {
   "cell_type": "markdown",
   "metadata": {},
   "source": [
    "#### Decompression Bandwidth (MB/s)"
   ]
  },
  {
   "cell_type": "code",
   "execution_count": 4,
   "metadata": {},
   "outputs": [
    {
     "name": "stdout",
     "output_type": "stream",
     "text": [
      "ABS 1E2 Average Decompression Bandwidth: 74.69448323367295 MB/s\n",
      "ABS 1E2 Decompression Bandwidth Standard Deviation: 0.5150114989463974 MB/s\n",
      "ABS 1E3 Average Decompression Bandwidth: 42.808009468836715 MB/s\n",
      "ABS 1E3 Decompression Bandwidth Standard Deviation: 0.30701549444806875 MB/s\n",
      "ABS 1E4 Average Decompression Bandwidth: 25.796459396151523 MB/s\n",
      "ABS 1E4 Decompression Bandwidth Standard Deviation: 1.0734832015971003 MB/s\n"
     ]
    }
   ],
   "source": [
    "print(\"ABS 1E2 Average Decompression Bandwidth: {} MB/s\".format(control_1['DecompressionBandwidth'].mean()))\n",
    "print(\"ABS 1E2 Decompression Bandwidth Standard Deviation: {} MB/s\".format(control_1['DecompressionBandwidth'].std()))\n",
    "print(\"ABS 1E3 Average Decompression Bandwidth: {} MB/s\".format(control_2['DecompressionBandwidth'].mean()))\n",
    "print(\"ABS 1E3 Decompression Bandwidth Standard Deviation: {} MB/s\".format(control_2['DecompressionBandwidth'].std()))\n",
    "print(\"ABS 1E4 Average Decompression Bandwidth: {} MB/s\".format(control_3['DecompressionBandwidth'].mean()))\n",
    "print(\"ABS 1E4 Decompression Bandwidth Standard Deviation: {} MB/s\".format(control_3['DecompressionBandwidth'].std()))"
   ]
  },
  {
   "cell_type": "markdown",
   "metadata": {},
   "source": [
    "#### Maximum Difference"
   ]
  },
  {
   "cell_type": "code",
   "execution_count": 5,
   "metadata": {},
   "outputs": [
    {
     "name": "stdout",
     "output_type": "stream",
     "text": [
      "ABS 1E2 Average Maximum Difference: 0.010000000000000007\n",
      "ABS 1E2 Maximum Difference Standard Deviation: 6.938896281935917e-18\n",
      "ABS 1E3 Average Maximum Difference: 0.0010000000000000007\n",
      "ABS 1E3 Maximum Difference Standard Deviation: 6.505214635353763e-19\n",
      "ABS 1E4 Average Maximum Difference: 0.00010000000000000037\n",
      "ABS 1E4 Maximum Difference Standard Deviation: 3.6591828745290593e-19\n"
     ]
    }
   ],
   "source": [
    "print(\"ABS 1E2 Average Maximum Difference: {}\".format(control_1['MaxDifference'].mean()))\n",
    "print(\"ABS 1E2 Maximum Difference Standard Deviation: {}\".format(control_1['MaxDifference'].std()))\n",
    "print(\"ABS 1E3 Average Maximum Difference: {}\".format(control_2['MaxDifference'].mean()))\n",
    "print(\"ABS 1E3 Maximum Difference Standard Deviation: {}\".format(control_2['MaxDifference'].std()))\n",
    "print(\"ABS 1E4 Average Maximum Difference: {}\".format(control_3['MaxDifference'].mean()))\n",
    "print(\"ABS 1E4 Maximum Difference Standard Deviation: {}\".format(control_3['MaxDifference'].std()))"
   ]
  },
  {
   "cell_type": "markdown",
   "metadata": {},
   "source": [
    "#### RMSE"
   ]
  },
  {
   "cell_type": "code",
   "execution_count": 6,
   "metadata": {},
   "outputs": [
    {
     "name": "stdout",
     "output_type": "stream",
     "text": [
      "ABS 1E2 Average RMSE: 0.005766999999999991\n",
      "ABS 1E2 RMSE Standard Deviation: 9.540982387661886e-18\n",
      "ABS 1E3 Average RMSE: 0.0005769999999999971\n",
      "ABS 1E3 RMSE Standard Deviation: 2.8189263419866307e-18\n",
      "ABS 1E4 Average RMSE: 5.300000000000003e-05\n",
      "ABS 1E4 RMSE Standard Deviation: 2.710505832984488e-20\n"
     ]
    }
   ],
   "source": [
    "print(\"ABS 1E2 Average RMSE: {}\".format(control_1['RMSE'].mean()))\n",
    "print(\"ABS 1E2 RMSE Standard Deviation: {}\".format(control_1['RMSE'].std()))\n",
    "print(\"ABS 1E3 Average RMSE: {}\".format(control_2['RMSE'].mean()))\n",
    "print(\"ABS 1E3 RMSE Standard Deviation: {}\".format(control_2['RMSE'].std()))\n",
    "print(\"ABS 1E4 Average RMSE: {}\".format(control_3['RMSE'].mean()))\n",
    "print(\"ABS 1E4 RMSE Standard Deviation: {}\".format(control_3['RMSE'].std()))"
   ]
  },
  {
   "cell_type": "markdown",
   "metadata": {},
   "source": [
    "#### PSNR"
   ]
  },
  {
   "cell_type": "code",
   "execution_count": 7,
   "metadata": {},
   "outputs": [
    {
     "name": "stdout",
     "output_type": "stream",
     "text": [
      "ABS 1E2 Average PSNR: 81.61896499999979\n",
      "ABS 1E2 PSNR Standard Deviation: 2.1316289378107138e-13\n",
      "ABS 1E4 Average PSNR: 101.61891200000055\n",
      "ABS 1E4 PSNR Standard Deviation: 5.542234702453075e-13\n",
      "ABS 1E6 Average PSNR: 122.33863800000063\n",
      "ABS 1E6 PSNR Standard Deviation: 6.394885569736971e-13\n"
     ]
    }
   ],
   "source": [
    "print(\"ABS 1E2 Average PSNR: {}\".format(control_1['PSNR'].mean()))\n",
    "print(\"ABS 1E2 PSNR Standard Deviation: {}\".format(control_1['PSNR'].std()))\n",
    "print(\"ABS 1E4 Average PSNR: {}\".format(control_2['PSNR'].mean()))\n",
    "print(\"ABS 1E4 PSNR Standard Deviation: {}\".format(control_2['PSNR'].std()))\n",
    "print(\"ABS 1E6 Average PSNR: {}\".format(control_3['PSNR'].mean()))\n",
    "print(\"ABS 1E6 PSNR Standard Deviation: {}\".format(control_3['PSNR'].std()))"
   ]
  },
  {
   "cell_type": "markdown",
   "metadata": {},
   "source": [
    "## PW Analysis"
   ]
  },
  {
   "cell_type": "markdown",
   "metadata": {},
   "source": [
    "### Read in data"
   ]
  },
  {
   "cell_type": "code",
   "execution_count": 8,
   "metadata": {},
   "outputs": [],
   "source": [
    "control_list = pw_control_list\n",
    "error_bounds = ['1e-2', '1e-3', '1e-4']\n",
    "\n",
    "control_1 = pd.read_csv(control_list[0], usecols=read_cols)\n",
    "control_1.columns = control_1.columns.str.strip()\n",
    "control_1['ErrorBound'] = error_bounds[0]\n",
    "control_1['DecompressionBandwidth'] = (control_1['DataSize']/control_1['DecompressionTime'])/1048576\n",
    "control_1['MaxDifference'] = control_1['MaxDifference'].apply(pd.to_numeric, errors='coerce').fillna(-2)\n",
    "control_1['RMSE'] = control_1['RMSE'].apply(pd.to_numeric, errors='coerce').fillna(-2)\n",
    "control_1['PSNR'] = control_1['PSNR'].apply(pd.to_numeric, errors='coerce').fillna(-2)\n",
    "control_2 = pd.read_csv(control_list[1], usecols=read_cols)\n",
    "control_2.columns = control_2.columns.str.strip()\n",
    "control_2['ErrorBound'] = error_bounds[1]\n",
    "control_2['DecompressionBandwidth'] = (control_2['DataSize']/control_2['DecompressionTime'])/1048576\n",
    "control_2['MaxDifference'] = control_2['MaxDifference'].apply(pd.to_numeric, errors='coerce').fillna(-2)\n",
    "control_2['RMSE'] = control_2['RMSE'].apply(pd.to_numeric, errors='coerce').fillna(-2)\n",
    "control_2['PSNR'] = control_2['PSNR'].apply(pd.to_numeric, errors='coerce').fillna(-2)\n",
    "control_3 = pd.read_csv(control_list[2], usecols=read_cols)\n",
    "control_3.columns = control_3.columns.str.strip()\n",
    "control_3['ErrorBound'] = error_bounds[2]\n",
    "control_3['DecompressionBandwidth'] = (control_3['DataSize']/control_3['DecompressionTime'])/1048576\n",
    "control_3['MaxDifference'] = control_3['MaxDifference'].apply(pd.to_numeric, errors='coerce').fillna(-2)\n",
    "control_3['RMSE'] = control_3['RMSE'].apply(pd.to_numeric, errors='coerce').fillna(-2)\n",
    "control_3['PSNR'] = control_3['PSNR'].apply(pd.to_numeric, errors='coerce').fillna(-2)"
   ]
  },
  {
   "cell_type": "markdown",
   "metadata": {},
   "source": [
    "### Determine Baseline Values"
   ]
  },
  {
   "cell_type": "markdown",
   "metadata": {},
   "source": [
    "#### Compression Ratio"
   ]
  },
  {
   "cell_type": "code",
   "execution_count": 9,
   "metadata": {},
   "outputs": [
    {
     "name": "stdout",
     "output_type": "stream",
     "text": [
      "PW 1E2 Compression Ratio: 3.4365826755244804x\n",
      "PW 1E3 Compression Ratio: 2.461487255778922x\n",
      "PW 1E4 Compression Ratio: 1.5829589621927211x\n"
     ]
    }
   ],
   "source": [
    "print(\"PW 1E2 Compression Ratio: {}x\".format(control_1['DataSize'][0]/control_1['CompressedSize'][0]))\n",
    "print(\"PW 1E3 Compression Ratio: {}x\".format(control_2['DataSize'][0]/control_2['CompressedSize'][0]))\n",
    "print(\"PW 1E4 Compression Ratio: {}x\".format(control_3['DataSize'][0]/control_3['CompressedSize'][0]))"
   ]
  },
  {
   "cell_type": "markdown",
   "metadata": {},
   "source": [
    "#### Decompression Bandwidth (MB/s)"
   ]
  },
  {
   "cell_type": "code",
   "execution_count": 10,
   "metadata": {},
   "outputs": [
    {
     "name": "stdout",
     "output_type": "stream",
     "text": [
      "PW 1E2 Average Decompression Bandwidth: 159.75710629024428 MB/s\n",
      "PW 1E2 Decompression Bandwidth Standard Deviation: 2.748862112087316 MB/s\n",
      "PW 1E3 Average Decompression Bandwidth: 143.05099696633079 MB/s\n",
      "PW 1E3 Decompression Bandwidth Standard Deviation: 2.1907181804424907 MB/s\n",
      "PW 1E4 Average Decompression Bandwidth: 93.72437406287894 MB/s\n",
      "PW 1E4 Decompression Bandwidth Standard Deviation: 2.4684367835360916 MB/s\n"
     ]
    }
   ],
   "source": [
    "print(\"PW 1E2 Average Decompression Bandwidth: {} MB/s\".format(control_1['DecompressionBandwidth'].mean()))\n",
    "print(\"PW 1E2 Decompression Bandwidth Standard Deviation: {} MB/s\".format(control_1['DecompressionBandwidth'].std()))\n",
    "print(\"PW 1E3 Average Decompression Bandwidth: {} MB/s\".format(control_2['DecompressionBandwidth'].mean()))\n",
    "print(\"PW 1E3 Decompression Bandwidth Standard Deviation: {} MB/s\".format(control_2['DecompressionBandwidth'].std()))\n",
    "print(\"PW 1E4 Average Decompression Bandwidth: {} MB/s\".format(control_3['DecompressionBandwidth'].mean()))\n",
    "print(\"PW 1E4 Decompression Bandwidth Standard Deviation: {} MB/s\".format(control_3['DecompressionBandwidth'].std()))"
   ]
  },
  {
   "cell_type": "markdown",
   "metadata": {},
   "source": [
    "#### Maximum Difference"
   ]
  },
  {
   "cell_type": "code",
   "execution_count": 11,
   "metadata": {},
   "outputs": [
    {
     "name": "stdout",
     "output_type": "stream",
     "text": [
      "PW 1E2 Average Maximum Difference: 0.36475800000000047\n",
      "PW 1E2 Maximum Difference Standard Deviation: 4.99600548046413e-16\n",
      "PW 1E3 Average Maximum Difference: 0.03622100000000008\n",
      "PW 1E3 Maximum Difference Standard Deviation: 8.326674916706396e-17\n",
      "PW 1E4 Average Maximum Difference: 0.0034410000000000217\n",
      "PW 1E4 Maximum Difference Standard Deviation: 2.211772813158011e-17\n"
     ]
    }
   ],
   "source": [
    "print(\"PW 1E2 Average Maximum Difference: {}\".format(control_1['MaxDifference'].mean()))\n",
    "print(\"PW 1E2 Maximum Difference Standard Deviation: {}\".format(control_1['MaxDifference'].std()))\n",
    "print(\"PW 1E3 Average Maximum Difference: {}\".format(control_2['MaxDifference'].mean()))\n",
    "print(\"PW 1E3 Maximum Difference Standard Deviation: {}\".format(control_2['MaxDifference'].std()))\n",
    "print(\"PW 1E4 Average Maximum Difference: {}\".format(control_3['MaxDifference'].mean()))\n",
    "print(\"PW 1E4 Maximum Difference Standard Deviation: {}\".format(control_3['MaxDifference'].std()))"
   ]
  },
  {
   "cell_type": "markdown",
   "metadata": {},
   "source": [
    "#### RMSE"
   ]
  },
  {
   "cell_type": "code",
   "execution_count": 12,
   "metadata": {},
   "outputs": [
    {
     "name": "stdout",
     "output_type": "stream",
     "text": [
      "PW 1E2 Average RMSE: 0.03640400000000008\n",
      "PW 1E2 RMSE Standard Deviation: 8.326675800773549e-17\n",
      "PW 1E3 Average RMSE: 0.0036530000000000113\n",
      "PW 1E3 RMSE Standard Deviation: 1.1275705616373243e-17\n",
      "PW 1E4 Average RMSE: 0.0003660000000000021\n",
      "PW 1E4 RMSE Standard Deviation: 2.1141946008128044e-18\n"
     ]
    }
   ],
   "source": [
    "print(\"PW 1E2 Average RMSE: {}\".format(control_1['RMSE'].mean()))\n",
    "print(\"PW 1E2 RMSE Standard Deviation: {}\".format(control_1['RMSE'].std()))\n",
    "print(\"PW 1E3 Average RMSE: {}\".format(control_2['RMSE'].mean()))\n",
    "print(\"PW 1E3 RMSE Standard Deviation: {}\".format(control_2['RMSE'].std()))\n",
    "print(\"PW 1E4 Average RMSE: {}\".format(control_3['RMSE'].mean()))\n",
    "print(\"PW 1E4 RMSE Standard Deviation: {}\".format(control_3['RMSE'].std()))"
   ]
  },
  {
   "cell_type": "markdown",
   "metadata": {},
   "source": [
    "#### PSNR"
   ]
  },
  {
   "cell_type": "code",
   "execution_count": 13,
   "metadata": {},
   "outputs": [
    {
     "name": "stdout",
     "output_type": "stream",
     "text": [
      "PW 1E2 Average PSNR: 65.61566200000013\n",
      "PW 1E2 PSNR Standard Deviation: 1.2789774029988172e-13\n",
      "PW 1E4 Average PSNR: 85.58532700000032\n",
      "PW 1E4 PSNR Standard Deviation: 3.126388875392695e-13\n",
      "PW 1E6 Average PSNR: 105.57995600000065\n",
      "PW 1E6 PSNR Standard Deviation: 6.394885724255444e-13\n"
     ]
    }
   ],
   "source": [
    "print(\"PW 1E2 Average PSNR: {}\".format(control_1['PSNR'].mean()))\n",
    "print(\"PW 1E2 PSNR Standard Deviation: {}\".format(control_1['PSNR'].std()))\n",
    "print(\"PW 1E4 Average PSNR: {}\".format(control_2['PSNR'].mean()))\n",
    "print(\"PW 1E4 PSNR Standard Deviation: {}\".format(control_2['PSNR'].std()))\n",
    "print(\"PW 1E6 Average PSNR: {}\".format(control_3['PSNR'].mean()))\n",
    "print(\"PW 1E6 PSNR Standard Deviation: {}\".format(control_3['PSNR'].std()))"
   ]
  },
  {
   "cell_type": "markdown",
   "metadata": {},
   "source": [
    "## PSNR Analysis"
   ]
  },
  {
   "cell_type": "markdown",
   "metadata": {},
   "source": [
    "### Read in data"
   ]
  },
  {
   "cell_type": "code",
   "execution_count": 14,
   "metadata": {},
   "outputs": [],
   "source": [
    "control_list = psnr_control_list\n",
    "error_bounds = ['060', '090', '120']\n",
    "\n",
    "control_1 = pd.read_csv(control_list[0], usecols=read_cols)\n",
    "control_1.columns = control_1.columns.str.strip()\n",
    "control_1['ErrorBound'] = error_bounds[0]\n",
    "control_1['DecompressionBandwidth'] = (control_1['DataSize']/control_1['DecompressionTime'])/1048576\n",
    "control_1['MaxDifference'] = control_1['MaxDifference'].apply(pd.to_numeric, errors='coerce').fillna(-2)\n",
    "control_1['RMSE'] = control_1['RMSE'].apply(pd.to_numeric, errors='coerce').fillna(-2)\n",
    "control_1['PSNR'] = control_1['PSNR'].apply(pd.to_numeric, errors='coerce').fillna(-2)\n",
    "control_2 = pd.read_csv(control_list[1], usecols=read_cols)\n",
    "control_2.columns = control_2.columns.str.strip()\n",
    "control_2['ErrorBound'] = error_bounds[1]\n",
    "control_2['DecompressionBandwidth'] = (control_2['DataSize']/control_2['DecompressionTime'])/1048576\n",
    "control_2['MaxDifference'] = control_2['MaxDifference'].apply(pd.to_numeric, errors='coerce').fillna(-2)\n",
    "control_2['RMSE'] = control_2['RMSE'].apply(pd.to_numeric, errors='coerce').fillna(-2)\n",
    "control_2['PSNR'] = control_2['PSNR'].apply(pd.to_numeric, errors='coerce').fillna(-2)\n",
    "control_3 = pd.read_csv(control_list[2], usecols=read_cols)\n",
    "control_3.columns = control_3.columns.str.strip()\n",
    "control_3['ErrorBound'] = error_bounds[2]\n",
    "control_3['DecompressionBandwidth'] = (control_3['DataSize']/control_3['DecompressionTime'])/1048576\n",
    "control_3['MaxDifference'] = control_3['MaxDifference'].apply(pd.to_numeric, errors='coerce').fillna(-2)\n",
    "control_3['RMSE'] = control_3['RMSE'].apply(pd.to_numeric, errors='coerce').fillna(-2)\n",
    "control_3['PSNR'] = control_3['PSNR'].apply(pd.to_numeric, errors='coerce').fillna(-2)"
   ]
  },
  {
   "cell_type": "markdown",
   "metadata": {},
   "source": [
    "### Determine Baseline Values"
   ]
  },
  {
   "cell_type": "markdown",
   "metadata": {},
   "source": [
    "#### Compression Ratio"
   ]
  },
  {
   "cell_type": "code",
   "execution_count": 15,
   "metadata": {},
   "outputs": [
    {
     "name": "stdout",
     "output_type": "stream",
     "text": [
      "PSNR 60 Compression Ratio: 4.9471696063818875x\n",
      "PSNR 90 Compression Ratio: 2.744931945644524x\n",
      "PSNR 120 Compression Ratio: 1.4383649966972554x\n"
     ]
    }
   ],
   "source": [
    "print(\"PSNR 60 Compression Ratio: {}x\".format(control_1['DataSize'][0]/control_1['CompressedSize'][0]))\n",
    "print(\"PSNR 90 Compression Ratio: {}x\".format(control_2['DataSize'][0]/control_2['CompressedSize'][0]))\n",
    "print(\"PSNR 120 Compression Ratio: {}x\".format(control_3['DataSize'][0]/control_3['CompressedSize'][0]))"
   ]
  },
  {
   "cell_type": "markdown",
   "metadata": {},
   "source": [
    "#### Decompression Bandwidth (MB/s)"
   ]
  },
  {
   "cell_type": "code",
   "execution_count": 16,
   "metadata": {},
   "outputs": [
    {
     "name": "stdout",
     "output_type": "stream",
     "text": [
      "PSNR 60 Average Decompression Bandwidth: 113.24460478373587 MB/s\n",
      "PSNR 60 Decompression Bandwidth Standard Deviation: 1.5361840123046155 MB/s\n",
      "PSNR 90 Average Decompression Bandwidth: 60.91611178547799 MB/s\n",
      "PSNR 90 Decompression Bandwidth Standard Deviation: 0.7796122452512326 MB/s\n",
      "PSNR 120 Average Decompression Bandwidth: 24.42866970923691 MB/s\n",
      "PSNR 120 Decompression Bandwidth Standard Deviation: 1.000395558692741 MB/s\n"
     ]
    }
   ],
   "source": [
    "print(\"PSNR 60 Average Decompression Bandwidth: {} MB/s\".format(control_1['DecompressionBandwidth'].mean()))\n",
    "print(\"PSNR 60 Decompression Bandwidth Standard Deviation: {} MB/s\".format(control_1['DecompressionBandwidth'].std()))\n",
    "print(\"PSNR 90 Average Decompression Bandwidth: {} MB/s\".format(control_2['DecompressionBandwidth'].mean()))\n",
    "print(\"PSNR 90 Decompression Bandwidth Standard Deviation: {} MB/s\".format(control_2['DecompressionBandwidth'].std()))\n",
    "print(\"PSNR 120 Average Decompression Bandwidth: {} MB/s\".format(control_3['DecompressionBandwidth'].mean()))\n",
    "print(\"PSNR 120 Decompression Bandwidth Standard Deviation: {} MB/s\".format(control_3['DecompressionBandwidth'].std()))"
   ]
  },
  {
   "cell_type": "markdown",
   "metadata": {},
   "source": [
    "#### Maximum Difference"
   ]
  },
  {
   "cell_type": "code",
   "execution_count": 17,
   "metadata": {},
   "outputs": [
    {
     "name": "stdout",
     "output_type": "stream",
     "text": [
      "PSNR 60 Average Maximum Difference: 0.12024300000000021\n",
      "PSNR 60 Maximum Difference Standard Deviation: 2.0816692926648488e-16\n",
      "PSNR 90 Average Maximum Difference: 0.0038019999999999994\n",
      "PSNR 90 Maximum Difference Standard Deviation: 8.673619972429846e-19\n",
      "PSNR 120 Average Maximum Difference: 0.00012000000000000027\n",
      "PSNR 120 Maximum Difference Standard Deviation: 2.846031148581368e-19\n"
     ]
    }
   ],
   "source": [
    "print(\"PSNR 60 Average Maximum Difference: {}\".format(control_1['MaxDifference'].mean()))\n",
    "print(\"PSNR 60 Maximum Difference Standard Deviation: {}\".format(control_1['MaxDifference'].std()))\n",
    "print(\"PSNR 90 Average Maximum Difference: {}\".format(control_2['MaxDifference'].mean()))\n",
    "print(\"PSNR 90 Maximum Difference Standard Deviation: {}\".format(control_2['MaxDifference'].std()))\n",
    "print(\"PSNR 120 Average Maximum Difference: {}\".format(control_3['MaxDifference'].mean()))\n",
    "print(\"PSNR 120 Maximum Difference Standard Deviation: {}\".format(control_3['MaxDifference'].std()))"
   ]
  },
  {
   "cell_type": "markdown",
   "metadata": {},
   "source": [
    "#### RMSE"
   ]
  },
  {
   "cell_type": "code",
   "execution_count": 18,
   "metadata": {},
   "outputs": [
    {
     "name": "stdout",
     "output_type": "stream",
     "text": [
      "PSNR 60 Average RMSE: 0.06932799999999983\n",
      "PSNR 60 RMSE Standard Deviation: 1.6653354341318792e-16\n",
      "PSNR 90 Average RMSE: 0.002193\n",
      "PSNR 90 RMSE Standard Deviation: 0.0\n",
      "PSNR 120 Average RMSE: 6.600000000000007e-05\n",
      "PSNR 120 RMSE Standard Deviation: 6.776264639479448e-20\n"
     ]
    }
   ],
   "source": [
    "print(\"PSNR 60 Average RMSE: {}\".format(control_1['RMSE'].mean()))\n",
    "print(\"PSNR 60 RMSE Standard Deviation: {}\".format(control_1['RMSE'].std()))\n",
    "print(\"PSNR 90 Average RMSE: {}\".format(control_2['RMSE'].mean()))\n",
    "print(\"PSNR 90 RMSE Standard Deviation: {}\".format(control_2['RMSE'].std()))\n",
    "print(\"PSNR 120 Average RMSE: {}\".format(control_3['RMSE'].mean()))\n",
    "print(\"PSNR 120 RMSE Standard Deviation: {}\".format(control_3['RMSE'].std()))"
   ]
  },
  {
   "cell_type": "markdown",
   "metadata": {},
   "source": [
    "#### PSNR"
   ]
  },
  {
   "cell_type": "code",
   "execution_count": 19,
   "metadata": {},
   "outputs": [
    {
     "name": "stdout",
     "output_type": "stream",
     "text": [
      "PSNR 60 Average PSNR: 60.02041999999989\n",
      "PSNR 60 PSNR Standard Deviation: 1.0658146778444026e-13\n",
      "PSNR 90 Average PSNR: 90.01739500000018\n",
      "PSNR 90 PSNR Standard Deviation: 1.8474116651677781e-13\n",
      "PSNR 120 Average PSNR: 120.41093399999967\n",
      "PSNR 120 PSNR Standard Deviation: 3.410605665891265e-13\n"
     ]
    }
   ],
   "source": [
    "print(\"PSNR 60 Average PSNR: {}\".format(control_1['PSNR'].mean()))\n",
    "print(\"PSNR 60 PSNR Standard Deviation: {}\".format(control_1['PSNR'].std()))\n",
    "print(\"PSNR 90 Average PSNR: {}\".format(control_2['PSNR'].mean()))\n",
    "print(\"PSNR 90 PSNR Standard Deviation: {}\".format(control_2['PSNR'].std()))\n",
    "print(\"PSNR 120 Average PSNR: {}\".format(control_3['PSNR'].mean()))\n",
    "print(\"PSNR 120 PSNR Standard Deviation: {}\".format(control_3['PSNR'].std()))"
   ]
  },
  {
   "cell_type": "markdown",
   "metadata": {},
   "source": [
    "[Go Back To EXAALT Main](EXAALT_Experiment.ipynb) "
   ]
  }
 ],
 "metadata": {
  "kernelspec": {
   "display_name": "Python 3",
   "language": "python",
   "name": "python3"
  },
  "language_info": {
   "codemirror_mode": {
    "name": "ipython",
    "version": 3
   },
   "file_extension": ".py",
   "mimetype": "text/x-python",
   "name": "python",
   "nbconvert_exporter": "python",
   "pygments_lexer": "ipython3",
   "version": "3.7.3"
  }
 },
 "nbformat": 4,
 "nbformat_minor": 2
}
